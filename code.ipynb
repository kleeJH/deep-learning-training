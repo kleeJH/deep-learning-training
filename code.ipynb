{
 "cells": [
  {
   "attachments": {},
   "cell_type": "markdown",
   "metadata": {},
   "source": [
    "## Object (somewhat) Localisation\n",
    "### Import modules"
   ]
  },
  {
   "cell_type": "code",
   "execution_count": 2,
   "metadata": {},
   "outputs": [],
   "source": [
    "import os\n",
    "import numpy as np\n",
    "import cv2 # Extract images from video\n",
    "import tensorflow as tf # Tensorflow stuff"
   ]
  },
  {
   "attachments": {},
   "cell_type": "markdown",
   "metadata": {},
   "source": [
    "### Training Data"
   ]
  },
  {
   "cell_type": "code",
   "execution_count": 3,
   "metadata": {},
   "outputs": [],
   "source": [
    "try:\n",
    "    if not os.path.exists('training'):\n",
    "        os.makedirs('training')\n",
    "except OSError:\n",
    "    print('Error creating directory - training')"
   ]
  },
  {
   "attachments": {},
   "cell_type": "markdown",
   "metadata": {},
   "source": [
    "### Import sample.mp4"
   ]
  },
  {
   "cell_type": "code",
   "execution_count": 4,
   "metadata": {},
   "outputs": [],
   "source": [
    "try:\n",
    "    if not os.path.exists('data'):\n",
    "        os.makedirs('data')\n",
    "except OSError:\n",
    "    print('Error creating directory - data')\n",
    "\n",
    "vid = cv2.VideoCapture(\"./data/sample.mp4\")"
   ]
  },
  {
   "attachments": {},
   "cell_type": "markdown",
   "metadata": {},
   "source": [
    "### Model"
   ]
  },
  {
   "cell_type": "code",
   "execution_count": 13,
   "metadata": {},
   "outputs": [],
   "source": [
    "from tensorflow.keras.applications.resnet50 import preprocess_input"
   ]
  },
  {
   "cell_type": "code",
   "execution_count": 12,
   "metadata": {},
   "outputs": [],
   "source": [
    "# PRETRAINED RESNET MODEL WITHOUT FC LAYER\n",
    "base_model = tf.keras.applications.ResNet50(input_shape=(224, 224, 3), include_top=False, weights='imagenet')\n",
    "\n",
    "# Freeze trainable layers except for last few layers\n",
    "base_model.trainable = False\n",
    "\n",
    "output = base_model.output\n",
    "output = tf.keras.layers.Flatten() (output)\n",
    "\n",
    "# Add new FC Layers to the output that can predict the XY coordinate and prediction\n",
    "output = tf.keras.layers.Dense(128, activation=\"relu\") (output)\n",
    "output = tf.keras.layers.Dense(64, activation=\"relu\") (output)\n",
    "output = tf.keras.layers.Dense(32, activation=\"relu\") (output)\n",
    "output = tf.keras.layers.Dense(3, activation=\"sigmoid\") (output) # sigmoid because binary imageclassification, 3 units for XY coordinate and prediction\n",
    "\n",
    "model = tf.keras.models.Model(inputs=base_model.input, outputs=output)\n",
    "# model.summary()"
   ]
  },
  {
   "cell_type": "code",
   "execution_count": null,
   "metadata": {},
   "outputs": [],
   "source": [
    "# MODEL PARAMETERS\n",
    "EPOCHS = 5\n",
    "BATCH_SIZE = 32\n",
    "OPTIMIZER = tf.optimizers.Adam(learning_rate=0.001)\n",
    "LOSS_FUNC = tf.keras.losses.mean_squared_error # Use MSE because I want to check how close the predictions are to the actual values\n",
    "\n",
    "# Callbacks - Stop early if val_loss starts increasing suddenly\n",
    "CALLBACKS = [\n",
    "    tf.keras.callbacks.EarlyStopping(\n",
    "                monitor=\"val_loss\", patience=3, mode='min',\n",
    "                restore_best_weights=True\n",
    "            )\n",
    "        ]\n",
    "\n",
    "# Initialize optimizer, compile and start fine tuning the model\n",
    "model.compile(optimizer=OPTIMIZER, loss=LOSS_FUNC)\n",
    "\n",
    "# Fit the model\n",
    "model.fit()"
   ]
  }
 ],
 "metadata": {
  "kernelspec": {
   "display_name": "Python 3",
   "language": "python",
   "name": "python3"
  },
  "language_info": {
   "codemirror_mode": {
    "name": "ipython",
    "version": 3
   },
   "file_extension": ".py",
   "mimetype": "text/x-python",
   "name": "python",
   "nbconvert_exporter": "python",
   "pygments_lexer": "ipython3",
   "version": "3.10.11"
  },
  "orig_nbformat": 4
 },
 "nbformat": 4,
 "nbformat_minor": 2
}
