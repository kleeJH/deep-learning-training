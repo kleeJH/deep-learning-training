{
 "cells": [
  {
   "attachments": {},
   "cell_type": "markdown",
   "metadata": {},
   "source": [
    "#### Prediction Model to predict the staff being present"
   ]
  },
  {
   "cell_type": "code",
   "execution_count": 1,
   "metadata": {},
   "outputs": [],
   "source": [
    "import os\n",
    "import numpy as np\n",
    "import cv2 # Extract images from video\n",
    "import tensorflow as tf # Tensorflow stuff\n",
    "from sklearn.model_selection import train_test_split\n",
    "from sklearn import preprocessing\n",
    "import pandas as pd"
   ]
  },
  {
   "attachments": {},
   "cell_type": "markdown",
   "metadata": {},
   "source": [
    "#### Training Data"
   ]
  },
  {
   "cell_type": "code",
   "execution_count": 2,
   "metadata": {},
   "outputs": [
    {
     "name": "stdout",
     "output_type": "stream",
     "text": [
      "x: (74, 720, 960, 3)  y: (74, 1)\n"
     ]
    }
   ],
   "source": [
    "df = pd.read_csv('./data/prediction/train.csv')\n",
    "X_img_name = df['img_number']\n",
    "X = []\n",
    "y = df['truth']\n",
    "\n",
    "for i in range(len(X_img_name)):\n",
    "    im = cv2.imread('./data/prediction/{}'.format(str(X_img_name[i])))\n",
    "    X.append(im)\n",
    "\n",
    "X = np.array(X)\n",
    "y = np.array(y)\n",
    "y = y.reshape((74, 1))\n",
    "\n",
    "print(\"x: \" + str(X.shape) + \"  y: \" + str(y.shape))"
   ]
  },
  {
   "cell_type": "code",
   "execution_count": 3,
   "metadata": {},
   "outputs": [],
   "source": [
    "# Resize, normalising X and preprocess for ResNet50\n",
    "X = X.astype('float32')\n",
    "X /= 255\n",
    "\n",
    "X = tf.image.resize(images=X, size=[240, 320])\n",
    "X = tf.keras.applications.resnet50.preprocess_input(X)\n",
    "X = X.numpy()\n",
    "\n",
    "# Split x and y into training and test data\n",
    "X_train, X_test, y_train, y_test = train_test_split(X, y, test_size=0.2, random_state=4)"
   ]
  },
  {
   "attachments": {},
   "cell_type": "markdown",
   "metadata": {},
   "source": [
    "#### Model Preparation"
   ]
  },
  {
   "cell_type": "code",
   "execution_count": 4,
   "metadata": {},
   "outputs": [],
   "source": [
    "# PRETRAINED RESNET MODEL WITHOUT FC LAYER\n",
    "base_model = tf.keras.applications.ResNet50(input_shape=(240, 320, 3), include_top=False, weights='imagenet')\n",
    "\n",
    "# Freeze trainable layers\n",
    "base_model.trainable = False\n",
    "\n",
    "output = base_model.output\n",
    "output = tf.keras.layers.Flatten() (output)\n",
    "\n",
    "# Add new FC Layers to the output that can predict the XY coordinate and prediction\n",
    "output = tf.keras.layers.Dense(128, activation=\"relu\") (output)\n",
    "output = tf.keras.layers.Dense(64, activation=\"relu\") (output)\n",
    "output = tf.keras.layers.Dense(32, activation=\"relu\") (output)\n",
    "output = tf.keras.layers.Dense(1, activation=\"sigmoid\") (output) # sigmoid because binary image classification to detect the presence of tag\n",
    "\n",
    "model = tf.keras.models.Model(inputs=base_model.input, outputs=output)\n",
    "# model.summary()"
   ]
  },
  {
   "cell_type": "code",
   "execution_count": 10,
   "metadata": {},
   "outputs": [
    {
     "name": "stdout",
     "output_type": "stream",
     "text": [
      "Epoch 1/40\n",
      "3/4 [=====================>........] - ETA: 0s - loss: 2.6968 - accuracy: 0.5000"
     ]
    },
    {
     "name": "stderr",
     "output_type": "stream",
     "text": [
      "WARNING:absl:Found untraced functions such as _jit_compiled_convolution_op, _jit_compiled_convolution_op, _jit_compiled_convolution_op, _jit_compiled_convolution_op, _jit_compiled_convolution_op while saving (showing 5 of 53). These functions will not be directly callable after loading.\n"
     ]
    },
    {
     "name": "stdout",
     "output_type": "stream",
     "text": [
      "INFO:tensorflow:Assets written to: ./model/prediction\\prediction_model\\assets\n"
     ]
    },
    {
     "name": "stderr",
     "output_type": "stream",
     "text": [
      "INFO:tensorflow:Assets written to: ./model/prediction\\prediction_model\\assets\n"
     ]
    },
    {
     "name": "stdout",
     "output_type": "stream",
     "text": [
      "4/4 [==============================] - 16s 5s/step - loss: 3.2099 - accuracy: 0.4576 - val_loss: 3.3207 - val_accuracy: 0.5333\n",
      "Epoch 2/40\n",
      "3/4 [=====================>........] - ETA: 0s - loss: 1.7978 - accuracy: 0.5000"
     ]
    },
    {
     "name": "stderr",
     "output_type": "stream",
     "text": [
      "WARNING:absl:Found untraced functions such as _jit_compiled_convolution_op, _jit_compiled_convolution_op, _jit_compiled_convolution_op, _jit_compiled_convolution_op, _jit_compiled_convolution_op while saving (showing 5 of 53). These functions will not be directly callable after loading.\n"
     ]
    },
    {
     "name": "stdout",
     "output_type": "stream",
     "text": [
      "INFO:tensorflow:Assets written to: ./model/prediction\\prediction_model\\assets\n"
     ]
    },
    {
     "name": "stderr",
     "output_type": "stream",
     "text": [
      "INFO:tensorflow:Assets written to: ./model/prediction\\prediction_model\\assets\n"
     ]
    },
    {
     "name": "stdout",
     "output_type": "stream",
     "text": [
      "4/4 [==============================] - 14s 5s/step - loss: 1.9722 - accuracy: 0.4407 - val_loss: 1.3175 - val_accuracy: 0.4667\n",
      "Epoch 3/40\n",
      "3/4 [=====================>........] - ETA: 0s - loss: 0.9426 - accuracy: 0.5208"
     ]
    },
    {
     "name": "stderr",
     "output_type": "stream",
     "text": [
      "WARNING:absl:Found untraced functions such as _jit_compiled_convolution_op, _jit_compiled_convolution_op, _jit_compiled_convolution_op, _jit_compiled_convolution_op, _jit_compiled_convolution_op while saving (showing 5 of 53). These functions will not be directly callable after loading.\n"
     ]
    },
    {
     "name": "stdout",
     "output_type": "stream",
     "text": [
      "INFO:tensorflow:Assets written to: ./model/prediction\\prediction_model\\assets\n"
     ]
    },
    {
     "name": "stderr",
     "output_type": "stream",
     "text": [
      "INFO:tensorflow:Assets written to: ./model/prediction\\prediction_model\\assets\n"
     ]
    },
    {
     "name": "stdout",
     "output_type": "stream",
     "text": [
      "4/4 [==============================] - 15s 5s/step - loss: 0.8892 - accuracy: 0.5424 - val_loss: 0.7234 - val_accuracy: 0.6667\n",
      "Epoch 4/40\n",
      "3/4 [=====================>........] - ETA: 0s - loss: 0.6344 - accuracy: 0.6458"
     ]
    },
    {
     "name": "stderr",
     "output_type": "stream",
     "text": [
      "WARNING:absl:Found untraced functions such as _jit_compiled_convolution_op, _jit_compiled_convolution_op, _jit_compiled_convolution_op, _jit_compiled_convolution_op, _jit_compiled_convolution_op while saving (showing 5 of 53). These functions will not be directly callable after loading.\n"
     ]
    },
    {
     "name": "stdout",
     "output_type": "stream",
     "text": [
      "INFO:tensorflow:Assets written to: ./model/prediction\\prediction_model\\assets\n"
     ]
    },
    {
     "name": "stderr",
     "output_type": "stream",
     "text": [
      "INFO:tensorflow:Assets written to: ./model/prediction\\prediction_model\\assets\n"
     ]
    },
    {
     "name": "stdout",
     "output_type": "stream",
     "text": [
      "4/4 [==============================] - 15s 5s/step - loss: 0.6008 - accuracy: 0.6949 - val_loss: 0.6914 - val_accuracy: 0.6667\n",
      "Epoch 5/40\n",
      "3/4 [=====================>........] - ETA: 0s - loss: 0.5388 - accuracy: 0.6250"
     ]
    },
    {
     "name": "stderr",
     "output_type": "stream",
     "text": [
      "WARNING:absl:Found untraced functions such as _jit_compiled_convolution_op, _jit_compiled_convolution_op, _jit_compiled_convolution_op, _jit_compiled_convolution_op, _jit_compiled_convolution_op while saving (showing 5 of 53). These functions will not be directly callable after loading.\n"
     ]
    },
    {
     "name": "stdout",
     "output_type": "stream",
     "text": [
      "INFO:tensorflow:Assets written to: ./model/prediction\\prediction_model\\assets\n"
     ]
    },
    {
     "name": "stderr",
     "output_type": "stream",
     "text": [
      "INFO:tensorflow:Assets written to: ./model/prediction\\prediction_model\\assets\n"
     ]
    },
    {
     "name": "stdout",
     "output_type": "stream",
     "text": [
      "4/4 [==============================] - 14s 5s/step - loss: 0.5116 - accuracy: 0.6949 - val_loss: 0.6125 - val_accuracy: 0.7333\n",
      "Epoch 6/40\n",
      "3/4 [=====================>........] - ETA: 0s - loss: 0.4669 - accuracy: 0.7708"
     ]
    },
    {
     "name": "stderr",
     "output_type": "stream",
     "text": [
      "WARNING:absl:Found untraced functions such as _jit_compiled_convolution_op, _jit_compiled_convolution_op, _jit_compiled_convolution_op, _jit_compiled_convolution_op, _jit_compiled_convolution_op while saving (showing 5 of 53). These functions will not be directly callable after loading.\n"
     ]
    },
    {
     "name": "stdout",
     "output_type": "stream",
     "text": [
      "INFO:tensorflow:Assets written to: ./model/prediction\\prediction_model\\assets\n"
     ]
    },
    {
     "name": "stderr",
     "output_type": "stream",
     "text": [
      "INFO:tensorflow:Assets written to: ./model/prediction\\prediction_model\\assets\n"
     ]
    },
    {
     "name": "stdout",
     "output_type": "stream",
     "text": [
      "4/4 [==============================] - 14s 5s/step - loss: 0.4560 - accuracy: 0.7966 - val_loss: 0.6089 - val_accuracy: 0.5333\n",
      "Epoch 7/40\n",
      "4/4 [==============================] - 0s 52ms/step - loss: 0.4361 - accuracy: 0.8136 - val_loss: 0.9308 - val_accuracy: 0.5333\n",
      "Epoch 8/40\n",
      "4/4 [==============================] - 0s 51ms/step - loss: 0.5199 - accuracy: 0.7288 - val_loss: 0.6892 - val_accuracy: 0.6667\n",
      "Epoch 9/40\n",
      "4/4 [==============================] - 0s 51ms/step - loss: 0.4702 - accuracy: 0.7627 - val_loss: 0.7582 - val_accuracy: 0.6667\n",
      "Epoch 10/40\n",
      "4/4 [==============================] - 0s 50ms/step - loss: 0.4787 - accuracy: 0.7458 - val_loss: 0.6977 - val_accuracy: 0.7333\n",
      "Epoch 11/40\n",
      "3/4 [=====================>........] - ETA: 0s - loss: 0.4193 - accuracy: 0.8125"
     ]
    },
    {
     "name": "stderr",
     "output_type": "stream",
     "text": [
      "WARNING:absl:Found untraced functions such as _jit_compiled_convolution_op, _jit_compiled_convolution_op, _jit_compiled_convolution_op, _jit_compiled_convolution_op, _jit_compiled_convolution_op while saving (showing 5 of 53). These functions will not be directly callable after loading.\n"
     ]
    },
    {
     "name": "stdout",
     "output_type": "stream",
     "text": [
      "INFO:tensorflow:Assets written to: ./model/prediction\\prediction_model\\assets\n"
     ]
    },
    {
     "name": "stderr",
     "output_type": "stream",
     "text": [
      "INFO:tensorflow:Assets written to: ./model/prediction\\prediction_model\\assets\n"
     ]
    },
    {
     "name": "stdout",
     "output_type": "stream",
     "text": [
      "4/4 [==============================] - 14s 5s/step - loss: 0.5721 - accuracy: 0.7288 - val_loss: 0.5960 - val_accuracy: 0.7333\n",
      "Epoch 12/40\n",
      "4/4 [==============================] - 0s 52ms/step - loss: 0.5541 - accuracy: 0.7119 - val_loss: 0.9099 - val_accuracy: 0.5333\n",
      "Epoch 13/40\n",
      "4/4 [==============================] - 0s 50ms/step - loss: 0.5886 - accuracy: 0.6441 - val_loss: 0.7632 - val_accuracy: 0.6667\n",
      "Epoch 14/40\n",
      "4/4 [==============================] - 0s 50ms/step - loss: 0.5857 - accuracy: 0.6949 - val_loss: 1.1080 - val_accuracy: 0.4667\n",
      "Epoch 15/40\n",
      "4/4 [==============================] - 0s 50ms/step - loss: 0.8228 - accuracy: 0.5593 - val_loss: 0.7861 - val_accuracy: 0.6667\n",
      "Epoch 16/40\n",
      "3/4 [=====================>........] - ETA: 0s - loss: 0.4632 - accuracy: 0.7500"
     ]
    },
    {
     "name": "stderr",
     "output_type": "stream",
     "text": [
      "WARNING:absl:Found untraced functions such as _jit_compiled_convolution_op, _jit_compiled_convolution_op, _jit_compiled_convolution_op, _jit_compiled_convolution_op, _jit_compiled_convolution_op while saving (showing 5 of 53). These functions will not be directly callable after loading.\n"
     ]
    },
    {
     "name": "stdout",
     "output_type": "stream",
     "text": [
      "INFO:tensorflow:Assets written to: ./model/prediction\\prediction_model\\assets\n"
     ]
    },
    {
     "name": "stderr",
     "output_type": "stream",
     "text": [
      "INFO:tensorflow:Assets written to: ./model/prediction\\prediction_model\\assets\n"
     ]
    },
    {
     "name": "stdout",
     "output_type": "stream",
     "text": [
      "4/4 [==============================] - 14s 5s/step - loss: 0.4583 - accuracy: 0.7627 - val_loss: 0.5875 - val_accuracy: 0.6667\n",
      "Epoch 17/40\n",
      "3/4 [=====================>........] - ETA: 0s - loss: 0.4778 - accuracy: 0.7708"
     ]
    },
    {
     "name": "stderr",
     "output_type": "stream",
     "text": [
      "WARNING:absl:Found untraced functions such as _jit_compiled_convolution_op, _jit_compiled_convolution_op, _jit_compiled_convolution_op, _jit_compiled_convolution_op, _jit_compiled_convolution_op while saving (showing 5 of 53). These functions will not be directly callable after loading.\n"
     ]
    },
    {
     "name": "stdout",
     "output_type": "stream",
     "text": [
      "INFO:tensorflow:Assets written to: ./model/prediction\\prediction_model\\assets\n"
     ]
    },
    {
     "name": "stderr",
     "output_type": "stream",
     "text": [
      "INFO:tensorflow:Assets written to: ./model/prediction\\prediction_model\\assets\n"
     ]
    },
    {
     "name": "stdout",
     "output_type": "stream",
     "text": [
      "4/4 [==============================] - 15s 5s/step - loss: 0.4502 - accuracy: 0.7966 - val_loss: 0.5548 - val_accuracy: 0.7333\n",
      "Epoch 18/40\n",
      "4/4 [==============================] - 0s 57ms/step - loss: 0.3809 - accuracy: 0.7966 - val_loss: 0.5655 - val_accuracy: 0.6000\n",
      "Epoch 19/40\n",
      "3/4 [=====================>........] - ETA: 0s - loss: 0.3000 - accuracy: 0.8750"
     ]
    },
    {
     "name": "stderr",
     "output_type": "stream",
     "text": [
      "WARNING:absl:Found untraced functions such as _jit_compiled_convolution_op, _jit_compiled_convolution_op, _jit_compiled_convolution_op, _jit_compiled_convolution_op, _jit_compiled_convolution_op while saving (showing 5 of 53). These functions will not be directly callable after loading.\n"
     ]
    },
    {
     "name": "stdout",
     "output_type": "stream",
     "text": [
      "INFO:tensorflow:Assets written to: ./model/prediction\\prediction_model\\assets\n"
     ]
    },
    {
     "name": "stderr",
     "output_type": "stream",
     "text": [
      "INFO:tensorflow:Assets written to: ./model/prediction\\prediction_model\\assets\n"
     ]
    },
    {
     "name": "stdout",
     "output_type": "stream",
     "text": [
      "4/4 [==============================] - 14s 5s/step - loss: 0.3134 - accuracy: 0.8644 - val_loss: 0.5408 - val_accuracy: 0.6000\n",
      "Epoch 20/40\n",
      "3/4 [=====================>........] - ETA: 0s - loss: 0.3686 - accuracy: 0.8750"
     ]
    },
    {
     "name": "stderr",
     "output_type": "stream",
     "text": [
      "WARNING:absl:Found untraced functions such as _jit_compiled_convolution_op, _jit_compiled_convolution_op, _jit_compiled_convolution_op, _jit_compiled_convolution_op, _jit_compiled_convolution_op while saving (showing 5 of 53). These functions will not be directly callable after loading.\n"
     ]
    },
    {
     "name": "stdout",
     "output_type": "stream",
     "text": [
      "INFO:tensorflow:Assets written to: ./model/prediction\\prediction_model\\assets\n"
     ]
    },
    {
     "name": "stderr",
     "output_type": "stream",
     "text": [
      "INFO:tensorflow:Assets written to: ./model/prediction\\prediction_model\\assets\n"
     ]
    },
    {
     "name": "stdout",
     "output_type": "stream",
     "text": [
      "4/4 [==============================] - 14s 5s/step - loss: 0.3291 - accuracy: 0.8983 - val_loss: 0.5278 - val_accuracy: 0.6667\n",
      "Epoch 21/40\n",
      "4/4 [==============================] - 0s 52ms/step - loss: 0.3339 - accuracy: 0.8814 - val_loss: 0.5358 - val_accuracy: 0.6000\n",
      "Epoch 22/40\n",
      "4/4 [==============================] - 0s 49ms/step - loss: 0.2988 - accuracy: 0.8475 - val_loss: 0.5599 - val_accuracy: 0.6000\n",
      "Epoch 23/40\n",
      "4/4 [==============================] - 0s 55ms/step - loss: 0.3109 - accuracy: 0.8475 - val_loss: 0.8408 - val_accuracy: 0.6667\n",
      "Epoch 24/40\n",
      "4/4 [==============================] - 0s 51ms/step - loss: 0.3634 - accuracy: 0.8305 - val_loss: 0.6597 - val_accuracy: 0.7333\n",
      "Epoch 25/40\n",
      "4/4 [==============================] - 0s 51ms/step - loss: 0.3477 - accuracy: 0.8475 - val_loss: 0.7471 - val_accuracy: 0.6667\n",
      "Epoch 26/40\n",
      "4/4 [==============================] - 0s 51ms/step - loss: 0.3591 - accuracy: 0.8644 - val_loss: 0.6587 - val_accuracy: 0.6667\n",
      "Epoch 27/40\n",
      "4/4 [==============================] - 0s 51ms/step - loss: 0.3911 - accuracy: 0.8475 - val_loss: 0.6059 - val_accuracy: 0.6667\n",
      "Epoch 28/40\n",
      "4/4 [==============================] - 0s 50ms/step - loss: 0.3147 - accuracy: 0.8644 - val_loss: 0.5978 - val_accuracy: 0.8000\n",
      "Epoch 29/40\n",
      "4/4 [==============================] - 0s 50ms/step - loss: 0.3784 - accuracy: 0.8136 - val_loss: 1.3693 - val_accuracy: 0.5333\n",
      "Epoch 30/40\n",
      "4/4 [==============================] - 0s 52ms/step - loss: 0.6923 - accuracy: 0.6610 - val_loss: 0.6155 - val_accuracy: 0.7333\n",
      "Epoch 31/40\n",
      "4/4 [==============================] - 0s 51ms/step - loss: 0.4580 - accuracy: 0.7288 - val_loss: 0.6211 - val_accuracy: 0.7333\n",
      "Epoch 32/40\n",
      "4/4 [==============================] - 0s 50ms/step - loss: 0.3184 - accuracy: 0.8305 - val_loss: 1.0208 - val_accuracy: 0.6000\n",
      "Epoch 33/40\n",
      "3/4 [=====================>........] - ETA: 0s - loss: 0.3612 - accuracy: 0.7917"
     ]
    },
    {
     "name": "stderr",
     "output_type": "stream",
     "text": [
      "WARNING:absl:Found untraced functions such as _jit_compiled_convolution_op, _jit_compiled_convolution_op, _jit_compiled_convolution_op, _jit_compiled_convolution_op, _jit_compiled_convolution_op while saving (showing 5 of 53). These functions will not be directly callable after loading.\n"
     ]
    },
    {
     "name": "stdout",
     "output_type": "stream",
     "text": [
      "INFO:tensorflow:Assets written to: ./model/prediction\\prediction_model\\assets\n"
     ]
    },
    {
     "name": "stderr",
     "output_type": "stream",
     "text": [
      "INFO:tensorflow:Assets written to: ./model/prediction\\prediction_model\\assets\n"
     ]
    },
    {
     "name": "stdout",
     "output_type": "stream",
     "text": [
      "4/4 [==============================] - 14s 5s/step - loss: 0.4128 - accuracy: 0.7627 - val_loss: 0.4867 - val_accuracy: 0.6667\n",
      "Epoch 34/40\n",
      "4/4 [==============================] - 1s 51ms/step - loss: 0.3153 - accuracy: 0.8475 - val_loss: 0.5064 - val_accuracy: 0.7333\n",
      "Epoch 35/40\n",
      "4/4 [==============================] - 0s 50ms/step - loss: 0.2617 - accuracy: 0.9322 - val_loss: 0.7083 - val_accuracy: 0.6667\n",
      "Epoch 36/40\n",
      "4/4 [==============================] - 0s 51ms/step - loss: 0.3457 - accuracy: 0.9153 - val_loss: 0.5022 - val_accuracy: 0.7333\n",
      "Epoch 37/40\n",
      "4/4 [==============================] - 0s 53ms/step - loss: 0.3296 - accuracy: 0.8305 - val_loss: 0.4931 - val_accuracy: 0.7333\n",
      "Epoch 38/40\n",
      "4/4 [==============================] - 0s 49ms/step - loss: 0.2887 - accuracy: 0.8814 - val_loss: 0.8586 - val_accuracy: 0.6667\n",
      "Epoch 39/40\n",
      "4/4 [==============================] - 0s 53ms/step - loss: 0.2941 - accuracy: 0.8475 - val_loss: 0.4936 - val_accuracy: 0.6667\n",
      "Epoch 40/40\n",
      "4/4 [==============================] - 0s 54ms/step - loss: 0.2060 - accuracy: 0.9661 - val_loss: 0.4972 - val_accuracy: 0.6667\n"
     ]
    }
   ],
   "source": [
    "# MODEL PARAMETERS\n",
    "EPOCHS = 40\n",
    "BATCH_SIZE = 16\n",
    "OPTIMIZER = tf.optimizers.Adam()\n",
    "LOSS_FUNC = tf.keras.losses.binary_crossentropy\n",
    "\n",
    "CALLBACKS = [\n",
    "    tf.keras.callbacks.ModelCheckpoint(filepath=\"./model/prediction/prediction_model\", monitor='accuracy', mode='max', verbose=False, save_best_only=True)\n",
    "        ]\n",
    "\n",
    "# Initialize optimizer, compile and start fine tuning the model\n",
    "model.compile(optimizer=OPTIMIZER, loss=LOSS_FUNC, metrics=['accuracy'])\n",
    "\n",
    "# Fit the model\n",
    "history = model.fit(X_train, y_train, batch_size=BATCH_SIZE, callbacks=CALLBACKS, epochs=EPOCHS, verbose=1, validation_data=(X_test, y_test))"
   ]
  },
  {
   "cell_type": "code",
   "execution_count": 11,
   "metadata": {},
   "outputs": [
    {
     "name": "stderr",
     "output_type": "stream",
     "text": [
      "WARNING:absl:Found untraced functions such as _jit_compiled_convolution_op, _jit_compiled_convolution_op, _jit_compiled_convolution_op, _jit_compiled_convolution_op, _jit_compiled_convolution_op while saving (showing 5 of 53). These functions will not be directly callable after loading.\n"
     ]
    },
    {
     "name": "stdout",
     "output_type": "stream",
     "text": [
      "INFO:tensorflow:Assets written to: ./model/prediction/prediction_model_2\\assets\n"
     ]
    },
    {
     "name": "stderr",
     "output_type": "stream",
     "text": [
      "INFO:tensorflow:Assets written to: ./model/prediction/prediction_model_2\\assets\n"
     ]
    }
   ],
   "source": [
    "# Save Model\n",
    "model.save(\"./model/prediction/prediction_model_2\")"
   ]
  }
 ],
 "metadata": {
  "kernelspec": {
   "display_name": "Python 3",
   "language": "python",
   "name": "python3"
  },
  "language_info": {
   "codemirror_mode": {
    "name": "ipython",
    "version": 3
   },
   "file_extension": ".py",
   "mimetype": "text/x-python",
   "name": "python",
   "nbconvert_exporter": "python",
   "pygments_lexer": "ipython3",
   "version": "3.10.11"
  },
  "orig_nbformat": 4
 },
 "nbformat": 4,
 "nbformat_minor": 2
}
